{
 "cells": [
  {
   "cell_type": "markdown",
   "metadata": {},
   "source": [
    "# Decorators in python\n",
    "\n",
    "In this short tutorial we attempt to understand what are decorators in Python. Let us start with an exercise:\n",
    "\n",
    "Suppose 'f' is any function which takes two inputs of the same type. So, if the inputs are (a,b) then f returns f(a,b). Write a function, let's call it 'reverse', that takes f as an input and returns a function 'g' which in turn returns f(b,a), \n",
    "\n",
    "i.e. 'reverse' reverses the order in which the inputs are given to f. "
   ]
  },
  {
   "cell_type": "code",
   "execution_count": 1,
   "metadata": {
    "collapsed": true
   },
   "outputs": [],
   "source": [
    "def reverse(f):\n",
    "    def g(a,b):\n",
    "        return f(b,a)\n",
    "    return g"
   ]
  },
  {
   "cell_type": "markdown",
   "metadata": {},
   "source": [
    "Let's see if reverse does what we want. Take f to be the function that takes two numbers (a,b) and returns (a - b). "
   ]
  },
  {
   "cell_type": "code",
   "execution_count": 2,
   "metadata": {
    "collapsed": true
   },
   "outputs": [],
   "source": [
    "def minus(a,b):\n",
    "    return a - b   "
   ]
  },
  {
   "cell_type": "code",
   "execution_count": 3,
   "metadata": {},
   "outputs": [
    {
     "name": "stdout",
     "output_type": "stream",
     "text": [
      "-2\n",
      "2\n"
     ]
    }
   ],
   "source": [
    "g = reverse(minus)  #so g is a function\n",
    "print(minus(2,4))\n",
    "print(g(2,4))"
   ]
  },
  {
   "cell_type": "markdown",
   "metadata": {},
   "source": [
    "Yes! it does.\n",
    "\n",
    "Notice that the function 'reverse' works with any function that takes two inputs of same type. \n",
    "\n",
    "Now, check out the following code. What do you expect the answer to be?"
   ]
  },
  {
   "cell_type": "code",
   "execution_count": 4,
   "metadata": {},
   "outputs": [
    {
     "name": "stdout",
     "output_type": "stream",
     "text": [
      "9.0\n"
     ]
    }
   ],
   "source": [
    "@reverse\n",
    "def divide(a,b):\n",
    "    return a/b\n",
    "\n",
    "print(divide(3,27))"
   ]
  },
  {
   "cell_type": "markdown",
   "metadata": {},
   "source": [
    "What happened was, the syntax @reverse before the function 'divide', reversed the functionality of 'divide'. Or, can we say! we decorated 'divide' with 'reverse'. \n",
    "\n",
    "So, what are decorators?\n",
    "\n",
    "Decorators are functions that change the functionality of functions (or classes!!) in a way you like. Like 'reverse'.\n",
    "\n",
    "I hope it helped you understanding decorators.\n",
    "\n",
    "Exercise: Write a decorator of your choice."
   ]
  }
 ],
 "metadata": {
  "kernelspec": {
   "display_name": "Python 3",
   "language": "python",
   "name": "python3"
  },
  "language_info": {
   "codemirror_mode": {
    "name": "ipython",
    "version": 3
   },
   "file_extension": ".py",
   "mimetype": "text/x-python",
   "name": "python",
   "nbconvert_exporter": "python",
   "pygments_lexer": "ipython3",
   "version": "3.6.1"
  }
 },
 "nbformat": 4,
 "nbformat_minor": 2
}
